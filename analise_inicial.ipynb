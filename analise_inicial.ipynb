{
 "cells": [
  {
   "cell_type": "markdown",
   "metadata": {},
   "source": [
    "## Análise inicial dos dados"
   ]
  },
  {
   "cell_type": "code",
   "execution_count": 52,
   "metadata": {},
   "outputs": [],
   "source": [
    "import pandas as pd\n",
    "import matplotlib.pyplot as plt"
   ]
  },
  {
   "cell_type": "code",
   "execution_count": 41,
   "metadata": {},
   "outputs": [],
   "source": [
    "dados = pd.read_csv(r\"C:\\Users\\gabri\\OneDrive\\Documentos\\2 periodo\\intro. cd\\projetosiconf\\dados_totais.csv\",  encoding=\"utf-8\")"
   ]
  },
  {
   "cell_type": "code",
   "execution_count": 42,
   "metadata": {},
   "outputs": [
    {
     "data": {
      "text/html": [
       "<div>\n",
       "<style scoped>\n",
       "    .dataframe tbody tr th:only-of-type {\n",
       "        vertical-align: middle;\n",
       "    }\n",
       "\n",
       "    .dataframe tbody tr th {\n",
       "        vertical-align: top;\n",
       "    }\n",
       "\n",
       "    .dataframe thead th {\n",
       "        text-align: right;\n",
       "    }\n",
       "</style>\n",
       "<table border=\"1\" class=\"dataframe\">\n",
       "  <thead>\n",
       "    <tr style=\"text-align: right;\">\n",
       "      <th></th>\n",
       "      <th>Ano</th>\n",
       "      <th>Instituição</th>\n",
       "      <th>UF</th>\n",
       "      <th>População</th>\n",
       "      <th>Conta</th>\n",
       "      <th>Identificador da Conta</th>\n",
       "      <th>Valor</th>\n",
       "    </tr>\n",
       "  </thead>\n",
       "  <tbody>\n",
       "    <tr>\n",
       "      <th>0</th>\n",
       "      <td>2021</td>\n",
       "      <td>Prefeitura Municipal de Manaus - AM</td>\n",
       "      <td>AM</td>\n",
       "      <td>2255903</td>\n",
       "      <td>RECEITAS CORRENTES (I)</td>\n",
       "      <td>siconfi-cor_ReceitasCorrentesLiquidasExcetoTra...</td>\n",
       "      <td>7.819839e+08</td>\n",
       "    </tr>\n",
       "    <tr>\n",
       "      <th>1</th>\n",
       "      <td>2021</td>\n",
       "      <td>Prefeitura Municipal de Manaus - AM</td>\n",
       "      <td>AM</td>\n",
       "      <td>2255903</td>\n",
       "      <td>Impostos, Taxas e Contribuições de Melhoria</td>\n",
       "      <td>siconfi-cor_ReceitaTributariaLiquidaExcetoTran...</td>\n",
       "      <td>2.688272e+08</td>\n",
       "    </tr>\n",
       "    <tr>\n",
       "      <th>2</th>\n",
       "      <td>2021</td>\n",
       "      <td>Prefeitura Municipal de Manaus - AM</td>\n",
       "      <td>AM</td>\n",
       "      <td>2255903</td>\n",
       "      <td>IPTU</td>\n",
       "      <td>siconfi-cor_IPTULiquidoExcetoTransferenciasEFU...</td>\n",
       "      <td>1.491228e+08</td>\n",
       "    </tr>\n",
       "    <tr>\n",
       "      <th>3</th>\n",
       "      <td>2021</td>\n",
       "      <td>Prefeitura Municipal de Manaus - AM</td>\n",
       "      <td>AM</td>\n",
       "      <td>2255903</td>\n",
       "      <td>ISS</td>\n",
       "      <td>siconfi-cor_ISSLiquidoExcetoTransferenciasEFUNDEB</td>\n",
       "      <td>8.225389e+07</td>\n",
       "    </tr>\n",
       "    <tr>\n",
       "      <th>4</th>\n",
       "      <td>2021</td>\n",
       "      <td>Prefeitura Municipal de Manaus - AM</td>\n",
       "      <td>AM</td>\n",
       "      <td>2255903</td>\n",
       "      <td>ITBI</td>\n",
       "      <td>siconfi-cor_ITBILiquidoExcetoTransferenciasEFU...</td>\n",
       "      <td>8.944698e+06</td>\n",
       "    </tr>\n",
       "    <tr>\n",
       "      <th>...</th>\n",
       "      <td>...</td>\n",
       "      <td>...</td>\n",
       "      <td>...</td>\n",
       "      <td>...</td>\n",
       "      <td>...</td>\n",
       "      <td>...</td>\n",
       "      <td>...</td>\n",
       "    </tr>\n",
       "    <tr>\n",
       "      <th>30204</th>\n",
       "      <td>2023</td>\n",
       "      <td>Prefeitura Municipal de Cuiabá - MT</td>\n",
       "      <td>MT</td>\n",
       "      <td>618124</td>\n",
       "      <td>Compensações Financ. entre Regimes Previdência</td>\n",
       "      <td>siconfi-cor_CompensacaoFinanceiraEntreRegimesP...</td>\n",
       "      <td>1.101957e+07</td>\n",
       "    </tr>\n",
       "    <tr>\n",
       "      <th>30205</th>\n",
       "      <td>2023</td>\n",
       "      <td>Prefeitura Municipal de Cuiabá - MT</td>\n",
       "      <td>MT</td>\n",
       "      <td>618124</td>\n",
       "      <td>Dedução de Receita para Formação do FUNDEB</td>\n",
       "      <td>siconfi-cor_DeducaoDeReceitaParaFormacaoDoFUNDEB</td>\n",
       "      <td>1.415646e+08</td>\n",
       "    </tr>\n",
       "    <tr>\n",
       "      <th>30206</th>\n",
       "      <td>2023</td>\n",
       "      <td>Prefeitura Municipal de Cuiabá - MT</td>\n",
       "      <td>MT</td>\n",
       "      <td>618124</td>\n",
       "      <td>RECEITA CORRENTE LÍQUIDA (III) = (I - II)</td>\n",
       "      <td>siconfi-cor_RREO3ReceitaCorrenteLiquida</td>\n",
       "      <td>2.747358e+09</td>\n",
       "    </tr>\n",
       "    <tr>\n",
       "      <th>30207</th>\n",
       "      <td>2023</td>\n",
       "      <td>Prefeitura Municipal de Cuiabá - MT</td>\n",
       "      <td>MT</td>\n",
       "      <td>618124</td>\n",
       "      <td>RECEITA CORRENTE LÍQUIDA AJUSTADA PARA CÁLCULO...</td>\n",
       "      <td>siconfi-cor_RREO3ReceitaCorrenteLiquidaAjustad...</td>\n",
       "      <td>2.747358e+09</td>\n",
       "    </tr>\n",
       "    <tr>\n",
       "      <th>30208</th>\n",
       "      <td>2023</td>\n",
       "      <td>Prefeitura Municipal de Cuiabá - MT</td>\n",
       "      <td>MT</td>\n",
       "      <td>618124</td>\n",
       "      <td>RECEITA CORRENTE LÍQUIDA AJUSTADA PARA CÁLCULO...</td>\n",
       "      <td>siconfi-cor_RREO3ReceitaCorrenteLiquidaAjustad...</td>\n",
       "      <td>2.747358e+09</td>\n",
       "    </tr>\n",
       "  </tbody>\n",
       "</table>\n",
       "<p>30209 rows × 7 columns</p>\n",
       "</div>"
      ],
      "text/plain": [
       "        Ano                          Instituição  UF  População  \\\n",
       "0      2021  Prefeitura Municipal de Manaus - AM  AM    2255903   \n",
       "1      2021  Prefeitura Municipal de Manaus - AM  AM    2255903   \n",
       "2      2021  Prefeitura Municipal de Manaus - AM  AM    2255903   \n",
       "3      2021  Prefeitura Municipal de Manaus - AM  AM    2255903   \n",
       "4      2021  Prefeitura Municipal de Manaus - AM  AM    2255903   \n",
       "...     ...                                  ...  ..        ...   \n",
       "30204  2023  Prefeitura Municipal de Cuiabá - MT  MT     618124   \n",
       "30205  2023  Prefeitura Municipal de Cuiabá - MT  MT     618124   \n",
       "30206  2023  Prefeitura Municipal de Cuiabá - MT  MT     618124   \n",
       "30207  2023  Prefeitura Municipal de Cuiabá - MT  MT     618124   \n",
       "30208  2023  Prefeitura Municipal de Cuiabá - MT  MT     618124   \n",
       "\n",
       "                                                   Conta  \\\n",
       "0                                 RECEITAS CORRENTES (I)   \n",
       "1            Impostos, Taxas e Contribuições de Melhoria   \n",
       "2                                                   IPTU   \n",
       "3                                                    ISS   \n",
       "4                                                   ITBI   \n",
       "...                                                  ...   \n",
       "30204     Compensações Financ. entre Regimes Previdência   \n",
       "30205         Dedução de Receita para Formação do FUNDEB   \n",
       "30206          RECEITA CORRENTE LÍQUIDA (III) = (I - II)   \n",
       "30207  RECEITA CORRENTE LÍQUIDA AJUSTADA PARA CÁLCULO...   \n",
       "30208  RECEITA CORRENTE LÍQUIDA AJUSTADA PARA CÁLCULO...   \n",
       "\n",
       "                                  Identificador da Conta         Valor  \n",
       "0      siconfi-cor_ReceitasCorrentesLiquidasExcetoTra...  7.819839e+08  \n",
       "1      siconfi-cor_ReceitaTributariaLiquidaExcetoTran...  2.688272e+08  \n",
       "2      siconfi-cor_IPTULiquidoExcetoTransferenciasEFU...  1.491228e+08  \n",
       "3      siconfi-cor_ISSLiquidoExcetoTransferenciasEFUNDEB  8.225389e+07  \n",
       "4      siconfi-cor_ITBILiquidoExcetoTransferenciasEFU...  8.944698e+06  \n",
       "...                                                  ...           ...  \n",
       "30204  siconfi-cor_CompensacaoFinanceiraEntreRegimesP...  1.101957e+07  \n",
       "30205   siconfi-cor_DeducaoDeReceitaParaFormacaoDoFUNDEB  1.415646e+08  \n",
       "30206            siconfi-cor_RREO3ReceitaCorrenteLiquida  2.747358e+09  \n",
       "30207  siconfi-cor_RREO3ReceitaCorrenteLiquidaAjustad...  2.747358e+09  \n",
       "30208  siconfi-cor_RREO3ReceitaCorrenteLiquidaAjustad...  2.747358e+09  \n",
       "\n",
       "[30209 rows x 7 columns]"
      ]
     },
     "execution_count": 42,
     "metadata": {},
     "output_type": "execute_result"
    }
   ],
   "source": [
    "dados"
   ]
  },
  {
   "cell_type": "code",
   "execution_count": null,
   "metadata": {},
   "outputs": [],
   "source": [
    "pd.options.display.float_format = '{:,.2f}'.format\n",
    "\n",
    "print(dados)"
   ]
  },
  {
   "cell_type": "code",
   "execution_count": 47,
   "metadata": {},
   "outputs": [
    {
     "data": {
      "text/html": [
       "<div>\n",
       "<style scoped>\n",
       "    .dataframe tbody tr th:only-of-type {\n",
       "        vertical-align: middle;\n",
       "    }\n",
       "\n",
       "    .dataframe tbody tr th {\n",
       "        vertical-align: top;\n",
       "    }\n",
       "\n",
       "    .dataframe thead th {\n",
       "        text-align: right;\n",
       "    }\n",
       "</style>\n",
       "<table border=\"1\" class=\"dataframe\">\n",
       "  <thead>\n",
       "    <tr style=\"text-align: right;\">\n",
       "      <th></th>\n",
       "      <th>Ano</th>\n",
       "      <th>População</th>\n",
       "      <th>Valor</th>\n",
       "    </tr>\n",
       "  </thead>\n",
       "  <tbody>\n",
       "    <tr>\n",
       "      <th>count</th>\n",
       "      <td>30,209.00</td>\n",
       "      <td>30,209.00</td>\n",
       "      <td>30,209.00</td>\n",
       "    </tr>\n",
       "    <tr>\n",
       "      <th>mean</th>\n",
       "      <td>2,021.98</td>\n",
       "      <td>1,891,847.88</td>\n",
       "      <td>375,508,189.15</td>\n",
       "    </tr>\n",
       "    <tr>\n",
       "      <th>std</th>\n",
       "      <td>0.82</td>\n",
       "      <td>2,528,806.94</td>\n",
       "      <td>2,490,792,141.93</td>\n",
       "    </tr>\n",
       "    <tr>\n",
       "      <th>min</th>\n",
       "      <td>2,021.00</td>\n",
       "      <td>306,296.00</td>\n",
       "      <td>-64,925,679.27</td>\n",
       "    </tr>\n",
       "    <tr>\n",
       "      <th>25%</th>\n",
       "      <td>2,021.00</td>\n",
       "      <td>548,952.00</td>\n",
       "      <td>5,250,070.54</td>\n",
       "    </tr>\n",
       "    <tr>\n",
       "      <th>50%</th>\n",
       "      <td>2,022.00</td>\n",
       "      <td>1,031,597.00</td>\n",
       "      <td>27,088,756.10</td>\n",
       "    </tr>\n",
       "    <tr>\n",
       "      <th>75%</th>\n",
       "      <td>2,023.00</td>\n",
       "      <td>1,963,726.00</td>\n",
       "      <td>144,153,327.77</td>\n",
       "    </tr>\n",
       "    <tr>\n",
       "      <th>max</th>\n",
       "      <td>2,023.00</td>\n",
       "      <td>12,396,372.00</td>\n",
       "      <td>86,570,289,142.11</td>\n",
       "    </tr>\n",
       "  </tbody>\n",
       "</table>\n",
       "</div>"
      ],
      "text/plain": [
       "            Ano     População             Valor\n",
       "count 30,209.00     30,209.00         30,209.00\n",
       "mean   2,021.98  1,891,847.88    375,508,189.15\n",
       "std        0.82  2,528,806.94  2,490,792,141.93\n",
       "min    2,021.00    306,296.00    -64,925,679.27\n",
       "25%    2,021.00    548,952.00      5,250,070.54\n",
       "50%    2,022.00  1,031,597.00     27,088,756.10\n",
       "75%    2,023.00  1,963,726.00    144,153,327.77\n",
       "max    2,023.00 12,396,372.00 86,570,289,142.11"
      ]
     },
     "execution_count": 47,
     "metadata": {},
     "output_type": "execute_result"
    }
   ],
   "source": [
    "dados.describe()"
   ]
  },
  {
   "cell_type": "code",
   "execution_count": 50,
   "metadata": {},
   "outputs": [
    {
     "name": "stdout",
     "output_type": "stream",
     "text": [
      "Média: 375508189.15311396\n",
      "Mediana: 27088756.1\n",
      "Moda: 0    30,677.55\n",
      "1   100,000.00\n",
      "Name: Valor, dtype: float64\n",
      "Amplitude: 86635214821.38\n",
      "Variância: 6.204045494278312e+18\n",
      "Desvio Padrão: 2490792141.9255986\n",
      "Coeficiente de Variação: 6.633123361551976\n"
     ]
    }
   ],
   "source": [
    "# Medidas de Centralidade\n",
    "media = dados['Valor'].mean()\n",
    "mediana = dados['Valor'].median()\n",
    "moda = dados['Valor'].mode()\n",
    "\n",
    "# Medidas de Dispersão\n",
    "amplitude = dados['Valor'].max() - dados['Valor'].min()\n",
    "variancia = dados['Valor'].var()\n",
    "desvio_padrao = dados['Valor'].std()\n",
    "coeficiente_variacao = dados['Valor'].std() / dados['Valor'].mean()\n",
    "\n",
    "print(\"Média:\", media)\n",
    "print(\"Mediana:\", mediana)\n",
    "print(\"Moda:\", moda)\n",
    "print(\"Amplitude:\", amplitude)\n",
    "print(\"Variância:\", variancia)\n",
    "print(\"Desvio Padrão:\", desvio_padrao)\n",
    "print(\"Coeficiente de Variação:\", coeficiente_variacao)\n"
   ]
  },
  {
   "cell_type": "code",
   "execution_count": 51,
   "metadata": {},
   "outputs": [
    {
     "name": "stdout",
     "output_type": "stream",
     "text": [
      "Média: 1891847.8791419775\n",
      "Mediana: 1031597.0\n",
      "Moda: 0    6775561\n",
      "Name: População, dtype: int64\n",
      "Amplitude: 12090076\n",
      "Variância: 6394864521010.923\n",
      "Desvio Padrão: 2528806.936286541\n",
      "Coeficiente de Variação: 1.336686191404273\n"
     ]
    }
   ],
   "source": [
    "# Medidas de Centralidade\n",
    "media = dados['População'].mean()\n",
    "mediana = dados['População'].median()\n",
    "moda = dados['População'].mode()\n",
    "\n",
    "# Medidas de Dispersão\n",
    "amplitude = dados['População'].max() - dados['População'].min()\n",
    "variancia = dados['População'].var()\n",
    "desvio_padrao = dados['População'].std()\n",
    "coeficiente_variacao = dados['População'].std() / dados['População'].mean()\n",
    "\n",
    "print(\"Média:\", media)\n",
    "print(\"Mediana:\", mediana)\n",
    "print(\"Moda:\", moda)\n",
    "print(\"Amplitude:\", amplitude)\n",
    "print(\"Variância:\", variancia)\n",
    "print(\"Desvio Padrão:\", desvio_padrao)\n",
    "print(\"Coeficiente de Variação:\", coeficiente_variacao)\n"
   ]
  },
  {
   "cell_type": "code",
   "execution_count": 58,
   "metadata": {},
   "outputs": [],
   "source": [
    "# Removendo outliers\n",
    "dados = dados[(dados['Valor'] < dados['Valor'].quantile(0.95))]\n",
    "dados = dados[(dados['População'] < dados['População'].quantile(0.95))]"
   ]
  },
  {
   "cell_type": "code",
   "execution_count": 70,
   "metadata": {},
   "outputs": [
    {
     "data": {
      "image/png": "[encoded data removed]",
      "text/plain": [
       "<Figure size 1000x500 with 1 Axes>"
      ]
     },
     "metadata": {},
     "output_type": "display_data"
    }
   ],
   "source": [
    "plt.figure(figsize=(10, 5))\n",
    "plt.boxplot(dados['População'], notch=True, vert=False, patch_artist=True,\n",
    "            boxprops=dict(facecolor='lightblue', color='blue'),\n",
    "            medianprops=dict(color='red'),\n",
    "            whiskerprops=dict(color='blue'),\n",
    "            capprops=dict(color='blue'),\n",
    "            flierprops=dict(marker='o', color='blue', alpha=0.5))\n",
    "\n",
    "plt.yticks([1], ['População'])\n",
    "plt.title('Boxplot de População')\n",
    "plt.show()"
   ]
  },
  {
   "cell_type": "code",
   "execution_count": 69,
   "metadata": {},
   "outputs": [
    {
     "data": {
      "image/png": "[encoded data removed]",
      "text/plain": [
       "<Figure size 1000x500 with 1 Axes>"
      ]
     },
     "metadata": {},
     "output_type": "display_data"
    }
   ],
   "source": [
    "plt.figure(figsize=(10, 5))\n",
    "plt.boxplot(dados['Valor'], notch=True, vert=False, patch_artist=True,\n",
    "            boxprops=dict(facecolor='lightblue', color='blue'),\n",
    "            medianprops=dict(color='red'),\n",
    "            whiskerprops=dict(color='blue'),\n",
    "            capprops=dict(color='blue'),\n",
    "            flierprops=dict(marker='o', color='blue', alpha=0.5))\n",
    "\n",
    "plt.yticks([1], ['Valor'])\n",
    "plt.title('Boxplot de Valor')\n",
    "plt.show()"
   ]
  },
  {
   "cell_type": "code",
   "execution_count": null,
   "metadata": {},
   "outputs": [],
   "source": []
  }
 ],
 "metadata": {
  "kernelspec": {
   "display_name": "Python 3",
   "language": "python",
   "name": "python3"
  },
  "language_info": {
   "codemirror_mode": {
    "name": "ipython",
    "version": 3
   },
   "file_extension": ".py",
   "mimetype": "text/x-python",
   "name": "python",
   "nbconvert_exporter": "python",
   "pygments_lexer": "ipython3",
   "version": "3.11.3"
  }
 },
 "nbformat": 4,
 "nbformat_minor": 2
}
