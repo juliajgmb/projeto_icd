{
 "cells": [
  {
   "cell_type": "markdown",
   "metadata": {},
   "source": [
    "## Análise inicial dos dados"
   ]
  },
  {
   "cell_type": "code",
   "execution_count": 1,
   "metadata": {},
   "outputs": [],
   "source": [
    "import pandas as pd\n",
    "import matplotlib.pyplot as plt\n",
    "import seaborn as sns\n",
    "import numpy as np"
   ]
  },
  {
   "cell_type": "code",
   "execution_count": 2,
   "metadata": {},
   "outputs": [],
   "source": [
    "dados = pd.read_csv(r\"C:/Users/jvitt/OneDrive/Documentos/dados_totais.csv\",  encoding=\"utf-8\")"
   ]
  },
  {
   "cell_type": "code",
   "execution_count": 3,
   "metadata": {},
   "outputs": [
    {
     "data": {
      "text/html": [
       "<div>\n",
       "<style scoped>\n",
       "    .dataframe tbody tr th:only-of-type {\n",
       "        vertical-align: middle;\n",
       "    }\n",
       "\n",
       "    .dataframe tbody tr th {\n",
       "        vertical-align: top;\n",
       "    }\n",
       "\n",
       "    .dataframe thead th {\n",
       "        text-align: right;\n",
       "    }\n",
       "</style>\n",
       "<table border=\"1\" class=\"dataframe\">\n",
       "  <thead>\n",
       "    <tr style=\"text-align: right;\">\n",
       "      <th></th>\n",
       "      <th>Ano</th>\n",
       "      <th>Instituição</th>\n",
       "      <th>UF</th>\n",
       "      <th>População</th>\n",
       "      <th>Conta</th>\n",
       "      <th>Identificador da Conta</th>\n",
       "      <th>Valor</th>\n",
       "    </tr>\n",
       "  </thead>\n",
       "  <tbody>\n",
       "    <tr>\n",
       "      <th>0</th>\n",
       "      <td>2021</td>\n",
       "      <td>Prefeitura Municipal de Manaus - AM</td>\n",
       "      <td>AM</td>\n",
       "      <td>2255903</td>\n",
       "      <td>RECEITAS CORRENTES (I)</td>\n",
       "      <td>siconfi-cor_ReceitasCorrentesLiquidasExcetoTra...</td>\n",
       "      <td>7.819839e+08</td>\n",
       "    </tr>\n",
       "    <tr>\n",
       "      <th>1</th>\n",
       "      <td>2021</td>\n",
       "      <td>Prefeitura Municipal de Manaus - AM</td>\n",
       "      <td>AM</td>\n",
       "      <td>2255903</td>\n",
       "      <td>Impostos, Taxas e Contribuições de Melhoria</td>\n",
       "      <td>siconfi-cor_ReceitaTributariaLiquidaExcetoTran...</td>\n",
       "      <td>2.688272e+08</td>\n",
       "    </tr>\n",
       "    <tr>\n",
       "      <th>2</th>\n",
       "      <td>2021</td>\n",
       "      <td>Prefeitura Municipal de Manaus - AM</td>\n",
       "      <td>AM</td>\n",
       "      <td>2255903</td>\n",
       "      <td>IPTU</td>\n",
       "      <td>siconfi-cor_IPTULiquidoExcetoTransferenciasEFU...</td>\n",
       "      <td>1.491228e+08</td>\n",
       "    </tr>\n",
       "    <tr>\n",
       "      <th>3</th>\n",
       "      <td>2021</td>\n",
       "      <td>Prefeitura Municipal de Manaus - AM</td>\n",
       "      <td>AM</td>\n",
       "      <td>2255903</td>\n",
       "      <td>ISS</td>\n",
       "      <td>siconfi-cor_ISSLiquidoExcetoTransferenciasEFUNDEB</td>\n",
       "      <td>8.225389e+07</td>\n",
       "    </tr>\n",
       "    <tr>\n",
       "      <th>4</th>\n",
       "      <td>2021</td>\n",
       "      <td>Prefeitura Municipal de Manaus - AM</td>\n",
       "      <td>AM</td>\n",
       "      <td>2255903</td>\n",
       "      <td>ITBI</td>\n",
       "      <td>siconfi-cor_ITBILiquidoExcetoTransferenciasEFU...</td>\n",
       "      <td>8.944698e+06</td>\n",
       "    </tr>\n",
       "    <tr>\n",
       "      <th>...</th>\n",
       "      <td>...</td>\n",
       "      <td>...</td>\n",
       "      <td>...</td>\n",
       "      <td>...</td>\n",
       "      <td>...</td>\n",
       "      <td>...</td>\n",
       "      <td>...</td>\n",
       "    </tr>\n",
       "    <tr>\n",
       "      <th>30204</th>\n",
       "      <td>2023</td>\n",
       "      <td>Prefeitura Municipal de Cuiabá - MT</td>\n",
       "      <td>MT</td>\n",
       "      <td>618124</td>\n",
       "      <td>Compensações Financ. entre Regimes Previdência</td>\n",
       "      <td>siconfi-cor_CompensacaoFinanceiraEntreRegimesP...</td>\n",
       "      <td>1.101957e+07</td>\n",
       "    </tr>\n",
       "    <tr>\n",
       "      <th>30205</th>\n",
       "      <td>2023</td>\n",
       "      <td>Prefeitura Municipal de Cuiabá - MT</td>\n",
       "      <td>MT</td>\n",
       "      <td>618124</td>\n",
       "      <td>Dedução de Receita para Formação do FUNDEB</td>\n",
       "      <td>siconfi-cor_DeducaoDeReceitaParaFormacaoDoFUNDEB</td>\n",
       "      <td>1.415646e+08</td>\n",
       "    </tr>\n",
       "    <tr>\n",
       "      <th>30206</th>\n",
       "      <td>2023</td>\n",
       "      <td>Prefeitura Municipal de Cuiabá - MT</td>\n",
       "      <td>MT</td>\n",
       "      <td>618124</td>\n",
       "      <td>RECEITA CORRENTE LÍQUIDA (III) = (I - II)</td>\n",
       "      <td>siconfi-cor_RREO3ReceitaCorrenteLiquida</td>\n",
       "      <td>2.747358e+09</td>\n",
       "    </tr>\n",
       "    <tr>\n",
       "      <th>30207</th>\n",
       "      <td>2023</td>\n",
       "      <td>Prefeitura Municipal de Cuiabá - MT</td>\n",
       "      <td>MT</td>\n",
       "      <td>618124</td>\n",
       "      <td>RECEITA CORRENTE LÍQUIDA AJUSTADA PARA CÁLCULO...</td>\n",
       "      <td>siconfi-cor_RREO3ReceitaCorrenteLiquidaAjustad...</td>\n",
       "      <td>2.747358e+09</td>\n",
       "    </tr>\n",
       "    <tr>\n",
       "      <th>30208</th>\n",
       "      <td>2023</td>\n",
       "      <td>Prefeitura Municipal de Cuiabá - MT</td>\n",
       "      <td>MT</td>\n",
       "      <td>618124</td>\n",
       "      <td>RECEITA CORRENTE LÍQUIDA AJUSTADA PARA CÁLCULO...</td>\n",
       "      <td>siconfi-cor_RREO3ReceitaCorrenteLiquidaAjustad...</td>\n",
       "      <td>2.747358e+09</td>\n",
       "    </tr>\n",
       "  </tbody>\n",
       "</table>\n",
       "<p>30209 rows × 7 columns</p>\n",
       "</div>"
      ],
      "text/plain": [
       "        Ano                          Instituição  UF  População  \\\n",
       "0      2021  Prefeitura Municipal de Manaus - AM  AM    2255903   \n",
       "1      2021  Prefeitura Municipal de Manaus - AM  AM    2255903   \n",
       "2      2021  Prefeitura Municipal de Manaus - AM  AM    2255903   \n",
       "3      2021  Prefeitura Municipal de Manaus - AM  AM    2255903   \n",
       "4      2021  Prefeitura Municipal de Manaus - AM  AM    2255903   \n",
       "...     ...                                  ...  ..        ...   \n",
       "30204  2023  Prefeitura Municipal de Cuiabá - MT  MT     618124   \n",
       "30205  2023  Prefeitura Municipal de Cuiabá - MT  MT     618124   \n",
       "30206  2023  Prefeitura Municipal de Cuiabá - MT  MT     618124   \n",
       "30207  2023  Prefeitura Municipal de Cuiabá - MT  MT     618124   \n",
       "30208  2023  Prefeitura Municipal de Cuiabá - MT  MT     618124   \n",
       "\n",
       "                                                   Conta  \\\n",
       "0                                 RECEITAS CORRENTES (I)   \n",
       "1            Impostos, Taxas e Contribuições de Melhoria   \n",
       "2                                                   IPTU   \n",
       "3                                                    ISS   \n",
       "4                                                   ITBI   \n",
       "...                                                  ...   \n",
       "30204     Compensações Financ. entre Regimes Previdência   \n",
       "30205         Dedução de Receita para Formação do FUNDEB   \n",
       "30206          RECEITA CORRENTE LÍQUIDA (III) = (I - II)   \n",
       "30207  RECEITA CORRENTE LÍQUIDA AJUSTADA PARA CÁLCULO...   \n",
       "30208  RECEITA CORRENTE LÍQUIDA AJUSTADA PARA CÁLCULO...   \n",
       "\n",
       "                                  Identificador da Conta         Valor  \n",
       "0      siconfi-cor_ReceitasCorrentesLiquidasExcetoTra...  7.819839e+08  \n",
       "1      siconfi-cor_ReceitaTributariaLiquidaExcetoTran...  2.688272e+08  \n",
       "2      siconfi-cor_IPTULiquidoExcetoTransferenciasEFU...  1.491228e+08  \n",
       "3      siconfi-cor_ISSLiquidoExcetoTransferenciasEFUNDEB  8.225389e+07  \n",
       "4      siconfi-cor_ITBILiquidoExcetoTransferenciasEFU...  8.944698e+06  \n",
       "...                                                  ...           ...  \n",
       "30204  siconfi-cor_CompensacaoFinanceiraEntreRegimesP...  1.101957e+07  \n",
       "30205   siconfi-cor_DeducaoDeReceitaParaFormacaoDoFUNDEB  1.415646e+08  \n",
       "30206            siconfi-cor_RREO3ReceitaCorrenteLiquida  2.747358e+09  \n",
       "30207  siconfi-cor_RREO3ReceitaCorrenteLiquidaAjustad...  2.747358e+09  \n",
       "30208  siconfi-cor_RREO3ReceitaCorrenteLiquidaAjustad...  2.747358e+09  \n",
       "\n",
       "[30209 rows x 7 columns]"
      ]
     },
     "execution_count": 3,
     "metadata": {},
     "output_type": "execute_result"
    }
   ],
   "source": [
    "dados"
   ]
  },
  {
   "cell_type": "code",
   "execution_count": 4,
   "metadata": {},
   "outputs": [],
   "source": [
    "# Criando uma copia do dataset para não modificar o original\n",
    "dataset_copia = dados.copy()"
   ]
  },
  {
   "cell_type": "code",
   "execution_count": 5,
   "metadata": {},
   "outputs": [
    {
     "data": {
      "text/html": [
       "<div>\n",
       "<style scoped>\n",
       "    .dataframe tbody tr th:only-of-type {\n",
       "        vertical-align: middle;\n",
       "    }\n",
       "\n",
       "    .dataframe tbody tr th {\n",
       "        vertical-align: top;\n",
       "    }\n",
       "\n",
       "    .dataframe thead th {\n",
       "        text-align: right;\n",
       "    }\n",
       "</style>\n",
       "<table border=\"1\" class=\"dataframe\">\n",
       "  <thead>\n",
       "    <tr style=\"text-align: right;\">\n",
       "      <th></th>\n",
       "      <th>Ano</th>\n",
       "      <th>População</th>\n",
       "      <th>Valor</th>\n",
       "    </tr>\n",
       "  </thead>\n",
       "  <tbody>\n",
       "    <tr>\n",
       "      <th>count</th>\n",
       "      <td>30209.000000</td>\n",
       "      <td>3.020900e+04</td>\n",
       "      <td>3.020900e+04</td>\n",
       "    </tr>\n",
       "    <tr>\n",
       "      <th>mean</th>\n",
       "      <td>2021.976067</td>\n",
       "      <td>1.891848e+06</td>\n",
       "      <td>3.755082e+08</td>\n",
       "    </tr>\n",
       "    <tr>\n",
       "      <th>std</th>\n",
       "      <td>0.817692</td>\n",
       "      <td>2.528807e+06</td>\n",
       "      <td>2.490792e+09</td>\n",
       "    </tr>\n",
       "    <tr>\n",
       "      <th>min</th>\n",
       "      <td>2021.000000</td>\n",
       "      <td>3.062960e+05</td>\n",
       "      <td>-6.492568e+07</td>\n",
       "    </tr>\n",
       "    <tr>\n",
       "      <th>25%</th>\n",
       "      <td>2021.000000</td>\n",
       "      <td>5.489520e+05</td>\n",
       "      <td>5.250071e+06</td>\n",
       "    </tr>\n",
       "    <tr>\n",
       "      <th>50%</th>\n",
       "      <td>2022.000000</td>\n",
       "      <td>1.031597e+06</td>\n",
       "      <td>2.708876e+07</td>\n",
       "    </tr>\n",
       "    <tr>\n",
       "      <th>75%</th>\n",
       "      <td>2023.000000</td>\n",
       "      <td>1.963726e+06</td>\n",
       "      <td>1.441533e+08</td>\n",
       "    </tr>\n",
       "    <tr>\n",
       "      <th>max</th>\n",
       "      <td>2023.000000</td>\n",
       "      <td>1.239637e+07</td>\n",
       "      <td>8.657029e+10</td>\n",
       "    </tr>\n",
       "  </tbody>\n",
       "</table>\n",
       "</div>"
      ],
      "text/plain": [
       "                Ano     População         Valor\n",
       "count  30209.000000  3.020900e+04  3.020900e+04\n",
       "mean    2021.976067  1.891848e+06  3.755082e+08\n",
       "std        0.817692  2.528807e+06  2.490792e+09\n",
       "min     2021.000000  3.062960e+05 -6.492568e+07\n",
       "25%     2021.000000  5.489520e+05  5.250071e+06\n",
       "50%     2022.000000  1.031597e+06  2.708876e+07\n",
       "75%     2023.000000  1.963726e+06  1.441533e+08\n",
       "max     2023.000000  1.239637e+07  8.657029e+10"
      ]
     },
     "execution_count": 5,
     "metadata": {},
     "output_type": "execute_result"
    }
   ],
   "source": [
    "# Descrição estatística dos dados\n",
    "dataset_copia.describe()"
   ]
  },
  {
   "cell_type": "code",
   "execution_count": 6,
   "metadata": {},
   "outputs": [
    {
     "name": "stdout",
     "output_type": "stream",
     "text": [
      "<class 'pandas.core.frame.DataFrame'>\n",
      "RangeIndex: 30209 entries, 0 to 30208\n",
      "Data columns (total 7 columns):\n",
      " #   Column                  Non-Null Count  Dtype  \n",
      "---  ------                  --------------  -----  \n",
      " 0   Ano                     30209 non-null  int64  \n",
      " 1   Instituição             30209 non-null  object \n",
      " 2   UF                      30209 non-null  object \n",
      " 3   População               30209 non-null  int64  \n",
      " 4   Conta                   30209 non-null  object \n",
      " 5   Identificador da Conta  30209 non-null  object \n",
      " 6   Valor                   30209 non-null  float64\n",
      "dtypes: float64(1), int64(2), object(4)\n",
      "memory usage: 1.6+ MB\n"
     ]
    }
   ],
   "source": [
    "# Visualizando a existência de dados nulos e o tipo de dado em cada coluna\n",
    "dataset_copia.info()"
   ]
  },
  {
   "cell_type": "code",
   "execution_count": 7,
   "metadata": {},
   "outputs": [
    {
     "name": "stdout",
     "output_type": "stream",
     "text": [
      "Mediana: 27088756.1\n",
      "Moda: 0     30677.55\n",
      "1    100000.00\n",
      "Name: Valor, dtype: float64\n",
      "Amplitude: 86635214821.38\n",
      "Variância: 6.204045494278312e+18\n",
      "Desvio padrão: 2490792141.9255986\n",
      "Coeficiente de variação: 6.633123361551976\n"
     ]
    }
   ],
   "source": [
    "# Outras medidas de centralidade:\n",
    "mediana = dados['Valor'].median()\n",
    "moda = dados['Valor'].mode()\n",
    "\n",
    "# Medidas de dispersão\n",
    "amplitude = dados['Valor'].max() - dados['Valor'].min()\n",
    "variancia = dados['Valor'].var()\n",
    "desvio_padrao = dados['Valor'].std()\n",
    "coeficiente_variacao = dados['Valor'].std() / dados['Valor'].mean()\n",
    "\n",
    "print(\"Mediana:\", mediana)\n",
    "print(\"Moda:\", moda)\n",
    "print(\"Amplitude:\", amplitude)\n",
    "print(\"Variância:\", variancia)\n",
    "print(\"Desvio padrão:\", desvio_padrao)\n",
    "print(\"Coeficiente de variação:\", coeficiente_variacao)\n"
   ]
  },
  {
   "cell_type": "code",
   "execution_count": 8,
   "metadata": {},
   "outputs": [
    {
     "name": "stdout",
     "output_type": "stream",
     "text": [
      "Mediana: 1031597.0\n",
      "Moda: 0    6775561\n",
      "Name: População, dtype: int64\n",
      "Amplitude: 12090076\n",
      "Variância: 6394864521010.923\n",
      "Desvio padrão: 2528806.936286541\n",
      "Coeficiente de variação: 1.336686191404273\n"
     ]
    }
   ],
   "source": [
    "# Outras medidas para a coluna 'População'\n",
    "mediana = dados['População'].median()\n",
    "moda = dados['População'].mode()\n",
    "\n",
    "# Medidas de dispersão de 'População'\n",
    "amplitude = dados['População'].max() - dados['População'].min()\n",
    "variancia = dados['População'].var()\n",
    "desvio_padrao = dados['População'].std()\n",
    "coeficiente_variacao = dados['População'].std() / dados['População'].mean()\n",
    "\n",
    "print(\"Mediana:\", mediana)\n",
    "print(\"Moda:\", moda)\n",
    "print(\"Amplitude:\", amplitude)\n",
    "print(\"Variância:\", variancia)\n",
    "print(\"Desvio padrão:\", desvio_padrao)\n",
    "print(\"Coeficiente de variação:\", coeficiente_variacao)\n"
   ]
  },
  {
   "cell_type": "code",
   "execution_count": 9,
   "metadata": {},
   "outputs": [
    {
     "data": {
      "image/png": "[encoded data removed]",
      "text/plain": [
       "<Figure size 640x480 with 1 Axes>"
      ]
     },
     "metadata": {},
     "output_type": "display_data"
    }
   ],
   "source": [
    "# Grafico de barras que relaciona o valor pago em contas por estado (UF)\n",
    "\n",
    "sns.barplot(x='UF', y='Valor', data=dataset_copia)\n",
    "plt.title('Valor por Estado')\n",
    "plt.xlabel('UF')\n",
    "plt.ylabel('Valor')\n",
    "plt.xticks(rotation=90)  \n",
    "plt.show()\n"
   ]
  },
  {
   "cell_type": "code",
   "execution_count": 10,
   "metadata": {},
   "outputs": [
    {
     "data": {
      "image/png": "[encoded data removed]",
      "text/plain": [
       "<Figure size 640x480 with 1 Axes>"
      ]
     },
     "metadata": {},
     "output_type": "display_data"
    }
   ],
   "source": [
    "# Grafico que mostra o valor gasto em contas por ano\n",
    "sns.barplot(x='Ano', y='Valor', data=dados)\n",
    "plt.title('Valor por Ano')\n",
    "plt.show()\n"
   ]
  },
  {
   "cell_type": "code",
   "execution_count": 11,
   "metadata": {},
   "outputs": [
    {
     "data": {
      "image/png": "[encoded data removed]",
      "text/plain": [
       "<Figure size 1000x500 with 1 Axes>"
      ]
     },
     "metadata": {},
     "output_type": "display_data"
    }
   ],
   "source": [
    "# Criando um boxplot para a coluna População \n",
    "plt.figure(figsize=(10, 5))\n",
    "plt.boxplot(dataset_copia['População'], notch=True, vert=False, patch_artist=True,\n",
    "            boxprops=dict(facecolor='lightblue', color='blue'),\n",
    "            medianprops=dict(color='red'),\n",
    "            whiskerprops=dict(color='blue'),\n",
    "            capprops=dict(color='blue'),\n",
    "            flierprops=dict(marker='o', color='blue', alpha=0.5))\n",
    "\n",
    "plt.yticks([1], ['População'])\n",
    "plt.title('Boxplot de população')\n",
    "plt.show()"
   ]
  },
  {
   "cell_type": "code",
   "execution_count": 15,
   "metadata": {},
   "outputs": [
    {
     "name": "stdout",
     "output_type": "stream",
     "text": [
      "Outliers encontrados:\n",
      "0        7.819839e+08\n",
      "1        2.688272e+08\n",
      "12       4.301373e+08\n",
      "26       6.862631e+08\n",
      "27       6.862631e+08\n",
      "             ...     \n",
      "30183    3.659352e+08\n",
      "30194    3.909048e+08\n",
      "30199    2.388473e+08\n",
      "30200    7.719368e+08\n",
      "30202    2.771097e+08\n",
      "Name: Valor, Length: 3640, dtype: float64\n",
      "Quantidade de outliers: 3640\n"
     ]
    },
    {
     "data": {
      "image/png": "[encoded data removed]",
      "text/plain": [
       "<Figure size 1000x500 with 1 Axes>"
      ]
     },
     "metadata": {},
     "output_type": "display_data"
    }
   ],
   "source": [
    "\n",
    "# Calculando Q1 (primeiro quartil) e Q3 (terceiro quartil)\n",
    "Q1 = np.percentile(dataset_copia['Valor'], 25)\n",
    "Q3 = np.percentile(dataset_copia['Valor'], 75)\n",
    "\n",
    "# Calculando o IQR (intervalo interquartil)\n",
    "IQR = Q3 - Q1\n",
    "\n",
    "# Definindo os limites inferior e superior\n",
    "limite_inferior = Q1 - 1.5 * IQR\n",
    "limite_superior = Q3 + 1.5 * IQR\n",
    "\n",
    "# Identificando os outliers\n",
    "outliers = dataset_copia['Valor'][(dataset_copia['Valor'] < limite_inferior) | \n",
    "                                  (dataset_copia['Valor'] > limite_superior)]\n",
    "\n",
    "# Exibindo os outliers\n",
    "print(\"Outliers encontrados:\")\n",
    "print(outliers)\n",
    "\n",
    "\n",
    "# Quantidade de outliers\n",
    "quantidade_outliers = len(outliers)\n",
    "print(f\"Quantidade de outliers: {quantidade_outliers}\")\n",
    "\n",
    "# Boxplot para a coluna 'Valor'\n",
    "plt.figure(figsize=(10, 5))\n",
    "plt.boxplot(dataset_copia['Valor'], vert=False, patch_artist=True,\n",
    "            boxprops=dict(facecolor='lightblue', color='blue'),\n",
    "            medianprops=dict(color='red'),\n",
    "            whiskerprops=dict(color='blue'),\n",
    "            capprops=dict(color='blue'),\n",
    "            )\n",
    "\n",
    "# Destacando os outliers com pontos vermelhos\n",
    "plt.scatter(outliers, np.ones(len(outliers)), color='red', zorder=2, label=f'Outliers ({quantidade_outliers})')\n",
    "\n",
    "plt.xscale('log')  # Colocando o eixo x em escala logarítmica, pois os valores variam muito\n",
    "plt.title('Boxplot de Valor')\n",
    "plt.legend()\n",
    "plt.show()\n"
   ]
  },
  {
   "cell_type": "code",
   "execution_count": 14,
   "metadata": {},
   "outputs": [
    {
     "name": "stderr",
     "output_type": "stream",
     "text": [
      "C:\\Users\\jvitt\\AppData\\Local\\Temp\\ipykernel_8644\\2642422559.py:2: UserWarning: Boolean Series key will be reindexed to match DataFrame index.\n",
      "  dataset_copia = dataset_copia[(dados['Valor'] < dados['Valor'].quantile(0.95))]\n",
      "C:\\Users\\jvitt\\AppData\\Local\\Temp\\ipykernel_8644\\2642422559.py:3: UserWarning: Boolean Series key will be reindexed to match DataFrame index.\n",
      "  dataset_copia = dataset_copia[(dados['População'] < dados['População'].quantile(0.95))]\n"
     ]
    }
   ],
   "source": [
    "# Removendo outliers\n",
    "dataset_copia = dataset_copia[(dados['Valor'] < dados['Valor'].quantile(0.95))]\n",
    "dataset_copia = dataset_copia[(dados['População'] < dados['População'].quantile(0.95))]"
   ]
  }
 ],
 "metadata": {
  "kernelspec": {
   "display_name": "Python 3",
   "language": "python",
   "name": "python3"
  },
  "language_info": {
   "codemirror_mode": {
    "name": "ipython",
    "version": 3
   },
   "file_extension": ".py",
   "mimetype": "text/x-python",
   "name": "python",
   "nbconvert_exporter": "python",
   "pygments_lexer": "ipython3",
   "version": "3.11.4"
  }
 },
 "nbformat": 4,
 "nbformat_minor": 2
}
