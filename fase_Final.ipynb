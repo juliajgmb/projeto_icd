{
 "cells": [
  {
   "cell_type": "markdown",
   "metadata": {},
   "source": [
    "## Relatório Final de Projeto"
   ]
  },
  {
   "cell_type": "markdown",
   "metadata": {},
   "source": [
    "Integrantes: Emyle Santos, João Victor e Júlia Gabriele"
   ]
  },
  {
   "cell_type": "markdown",
   "metadata": {},
   "source": [
    "Este projeto apresenta uma análise detalhada dos dados do **RREO** (Relatório Resumido da Execução Orçamentária), focando na interpretação e estudo de dados financeiros e orçamentários reportados pela entidade no primeiro bimestre de 2021 a 2023. Os dados foram fornecidos pela SINCONF (Supervisão de Controle Interno e Financeiro) e têm como objetivo fornecer insights sobre aspectos financeiros no Brasil durante esse período."
   ]
  },
  {
   "cell_type": "markdown",
   "metadata": {},
   "source": [
    "Os objetivos deste projeto são:"
   ]
  },
  {
   "cell_type": "markdown",
   "metadata": {},
   "source": [
    "- Analisar as principais fontes de receita da entidade: Identificar e estudar as fontes de receita mais relevantes da entidade nos anos de 2021, 2022 e 2023, visando **entender as variações e tendências** ao longo desse período.\n",
    "\n",
    "- Avaliar o comportamento das despesas: Realizar uma análise detalhada das despesas totais da entidade em cada ano, destacando as **categorias de despesa** mais significativas e suas variações.\n",
    "\n",
    "- Examinar os principais investimentos: Identificar os principais investimentos realizados pela entidade durante o primeiro bimestre dos anos de 2021, 2022 e 2023, buscando avaliar seu impacto no **contexto financeiro.**"
   ]
  },
  {
   "cell_type": "markdown",
   "metadata": {},
   "source": [
    "## Exploração Inicial"
   ]
  },
  {
   "cell_type": "code",
   "execution_count": 1,
   "metadata": {},
   "outputs": [],
   "source": [
    "import pandas as pd\n",
    "import matplotlib.pyplot as plt\n",
    "import seaborn as sns\n",
    "import numpy as np"
   ]
  },
  {
   "cell_type": "code",
   "execution_count": 3,
   "metadata": {},
   "outputs": [
    {
     "data": {
      "text/html": [
       "<div>\n",
       "<style scoped>\n",
       "    .dataframe tbody tr th:only-of-type {\n",
       "        vertical-align: middle;\n",
       "    }\n",
       "\n",
       "    .dataframe tbody tr th {\n",
       "        vertical-align: top;\n",
       "    }\n",
       "\n",
       "    .dataframe thead th {\n",
       "        text-align: right;\n",
       "    }\n",
       "</style>\n",
       "<table border=\"1\" class=\"dataframe\">\n",
       "  <thead>\n",
       "    <tr style=\"text-align: right;\">\n",
       "      <th></th>\n",
       "      <th>Ano</th>\n",
       "      <th>Instituição</th>\n",
       "      <th>UF</th>\n",
       "      <th>População</th>\n",
       "      <th>Conta</th>\n",
       "      <th>Identificador da Conta</th>\n",
       "      <th>Valor</th>\n",
       "    </tr>\n",
       "  </thead>\n",
       "  <tbody>\n",
       "    <tr>\n",
       "      <th>0</th>\n",
       "      <td>2021</td>\n",
       "      <td>Prefeitura Municipal de Manaus - AM</td>\n",
       "      <td>AM</td>\n",
       "      <td>2255903</td>\n",
       "      <td>RECEITAS CORRENTES (I)</td>\n",
       "      <td>siconfi-cor_ReceitasCorrentesLiquidasExcetoTra...</td>\n",
       "      <td>7.819839e+08</td>\n",
       "    </tr>\n",
       "    <tr>\n",
       "      <th>1</th>\n",
       "      <td>2021</td>\n",
       "      <td>Prefeitura Municipal de Manaus - AM</td>\n",
       "      <td>AM</td>\n",
       "      <td>2255903</td>\n",
       "      <td>Impostos, Taxas e Contribuições de Melhoria</td>\n",
       "      <td>siconfi-cor_ReceitaTributariaLiquidaExcetoTran...</td>\n",
       "      <td>2.688272e+08</td>\n",
       "    </tr>\n",
       "    <tr>\n",
       "      <th>2</th>\n",
       "      <td>2021</td>\n",
       "      <td>Prefeitura Municipal de Manaus - AM</td>\n",
       "      <td>AM</td>\n",
       "      <td>2255903</td>\n",
       "      <td>IPTU</td>\n",
       "      <td>siconfi-cor_IPTULiquidoExcetoTransferenciasEFU...</td>\n",
       "      <td>1.491228e+08</td>\n",
       "    </tr>\n",
       "    <tr>\n",
       "      <th>3</th>\n",
       "      <td>2021</td>\n",
       "      <td>Prefeitura Municipal de Manaus - AM</td>\n",
       "      <td>AM</td>\n",
       "      <td>2255903</td>\n",
       "      <td>ISS</td>\n",
       "      <td>siconfi-cor_ISSLiquidoExcetoTransferenciasEFUNDEB</td>\n",
       "      <td>8.225389e+07</td>\n",
       "    </tr>\n",
       "    <tr>\n",
       "      <th>4</th>\n",
       "      <td>2021</td>\n",
       "      <td>Prefeitura Municipal de Manaus - AM</td>\n",
       "      <td>AM</td>\n",
       "      <td>2255903</td>\n",
       "      <td>ITBI</td>\n",
       "      <td>siconfi-cor_ITBILiquidoExcetoTransferenciasEFU...</td>\n",
       "      <td>8.944698e+06</td>\n",
       "    </tr>\n",
       "  </tbody>\n",
       "</table>\n",
       "</div>"
      ],
      "text/plain": [
       "    Ano                          Instituição  UF  População  \\\n",
       "0  2021  Prefeitura Municipal de Manaus - AM  AM    2255903   \n",
       "1  2021  Prefeitura Municipal de Manaus - AM  AM    2255903   \n",
       "2  2021  Prefeitura Municipal de Manaus - AM  AM    2255903   \n",
       "3  2021  Prefeitura Municipal de Manaus - AM  AM    2255903   \n",
       "4  2021  Prefeitura Municipal de Manaus - AM  AM    2255903   \n",
       "\n",
       "                                         Conta  \\\n",
       "0                       RECEITAS CORRENTES (I)   \n",
       "1  Impostos, Taxas e Contribuições de Melhoria   \n",
       "2                                         IPTU   \n",
       "3                                          ISS   \n",
       "4                                         ITBI   \n",
       "\n",
       "                              Identificador da Conta         Valor  \n",
       "0  siconfi-cor_ReceitasCorrentesLiquidasExcetoTra...  7.819839e+08  \n",
       "1  siconfi-cor_ReceitaTributariaLiquidaExcetoTran...  2.688272e+08  \n",
       "2  siconfi-cor_IPTULiquidoExcetoTransferenciasEFU...  1.491228e+08  \n",
       "3  siconfi-cor_ISSLiquidoExcetoTransferenciasEFUNDEB  8.225389e+07  \n",
       "4  siconfi-cor_ITBILiquidoExcetoTransferenciasEFU...  8.944698e+06  "
      ]
     },
     "execution_count": 3,
     "metadata": {},
     "output_type": "execute_result"
    }
   ],
   "source": [
    "caminho_dados = r'C:\\Users\\gabri\\OneDrive\\Documentos\\2 periodo\\intro. cd\\projetosiconf\\dados\\dados_totais.csv'\n",
    "dataset = pd.read_csv(caminho_dados,  encoding=\"utf-8\")\n",
    "dataset.head()"
   ]
  },
  {
   "cell_type": "code",
   "execution_count": 4,
   "metadata": {},
   "outputs": [],
   "source": [
    "# Criando uma copia do dataset para não modificar o original\n",
    "dataset_copia = dataset.copy()"
   ]
  },
  {
   "cell_type": "code",
   "execution_count": 5,
   "metadata": {},
   "outputs": [
    {
     "data": {
      "text/html": [
       "<div>\n",
       "<style scoped>\n",
       "    .dataframe tbody tr th:only-of-type {\n",
       "        vertical-align: middle;\n",
       "    }\n",
       "\n",
       "    .dataframe tbody tr th {\n",
       "        vertical-align: top;\n",
       "    }\n",
       "\n",
       "    .dataframe thead th {\n",
       "        text-align: right;\n",
       "    }\n",
       "</style>\n",
       "<table border=\"1\" class=\"dataframe\">\n",
       "  <thead>\n",
       "    <tr style=\"text-align: right;\">\n",
       "      <th></th>\n",
       "      <th>Ano</th>\n",
       "      <th>População</th>\n",
       "      <th>Valor</th>\n",
       "    </tr>\n",
       "  </thead>\n",
       "  <tbody>\n",
       "    <tr>\n",
       "      <th>count</th>\n",
       "      <td>30209.000000</td>\n",
       "      <td>3.020900e+04</td>\n",
       "      <td>3.020900e+04</td>\n",
       "    </tr>\n",
       "    <tr>\n",
       "      <th>mean</th>\n",
       "      <td>2021.976067</td>\n",
       "      <td>1.891848e+06</td>\n",
       "      <td>3.755082e+08</td>\n",
       "    </tr>\n",
       "    <tr>\n",
       "      <th>std</th>\n",
       "      <td>0.817692</td>\n",
       "      <td>2.528807e+06</td>\n",
       "      <td>2.490792e+09</td>\n",
       "    </tr>\n",
       "    <tr>\n",
       "      <th>min</th>\n",
       "      <td>2021.000000</td>\n",
       "      <td>3.062960e+05</td>\n",
       "      <td>-6.492568e+07</td>\n",
       "    </tr>\n",
       "    <tr>\n",
       "      <th>25%</th>\n",
       "      <td>2021.000000</td>\n",
       "      <td>5.489520e+05</td>\n",
       "      <td>5.250071e+06</td>\n",
       "    </tr>\n",
       "    <tr>\n",
       "      <th>50%</th>\n",
       "      <td>2022.000000</td>\n",
       "      <td>1.031597e+06</td>\n",
       "      <td>2.708876e+07</td>\n",
       "    </tr>\n",
       "    <tr>\n",
       "      <th>75%</th>\n",
       "      <td>2023.000000</td>\n",
       "      <td>1.963726e+06</td>\n",
       "      <td>1.441533e+08</td>\n",
       "    </tr>\n",
       "    <tr>\n",
       "      <th>max</th>\n",
       "      <td>2023.000000</td>\n",
       "      <td>1.239637e+07</td>\n",
       "      <td>8.657029e+10</td>\n",
       "    </tr>\n",
       "  </tbody>\n",
       "</table>\n",
       "</div>"
      ],
      "text/plain": [
       "                Ano     População         Valor\n",
       "count  30209.000000  3.020900e+04  3.020900e+04\n",
       "mean    2021.976067  1.891848e+06  3.755082e+08\n",
       "std        0.817692  2.528807e+06  2.490792e+09\n",
       "min     2021.000000  3.062960e+05 -6.492568e+07\n",
       "25%     2021.000000  5.489520e+05  5.250071e+06\n",
       "50%     2022.000000  1.031597e+06  2.708876e+07\n",
       "75%     2023.000000  1.963726e+06  1.441533e+08\n",
       "max     2023.000000  1.239637e+07  8.657029e+10"
      ]
     },
     "execution_count": 5,
     "metadata": {},
     "output_type": "execute_result"
    }
   ],
   "source": [
    "# Descrição estatística dos dados\n",
    "dataset_copia.describe()"
   ]
  },
  {
   "cell_type": "markdown",
   "metadata": {},
   "source": [
    "Analisando a descrição estatísca, podemos retirar algumas informações sobre os dados:\n",
    "\n",
    "*1*- Na coluna 'Ano', temos tres valores 2022, 2023, 2024, que correspondem aos anos que os dados foram retirados       \n",
    "    1.1- A mediana é 2022, o que significa que metade dos dados correspondem ao ano de 2022\n",
    "\n",
    "*2*- Na coluna 'População', a média é na casa dos milhões, sugerindo que os dados estão em uma escala grande        \n",
    "    2.1- O desvio padrão de 2.528.807 sugere uma alta variação, com valores que se espalham amplamente em torno da média.\n",
    "\n",
    "*3*- Na coluna 'Valor', a média também é um valor bem alto (na casa de centenas de milhões), o que sugere a alta escala de valores tambem.      \n",
    "    3.1- Analisando o valor min e max, notamos a existência de valores negativos nos dados, o que faz sentido, levando em consideração\n",
    "que a coluna traz informações sobre os pagamentos de contas."
   ]
  },
  {
   "cell_type": "code",
   "execution_count": 6,
   "metadata": {},
   "outputs": [
    {
     "data": {
      "text/html": [
       "<div>\n",
       "<style scoped>\n",
       "    .dataframe tbody tr th:only-of-type {\n",
       "        vertical-align: middle;\n",
       "    }\n",
       "\n",
       "    .dataframe tbody tr th {\n",
       "        vertical-align: top;\n",
       "    }\n",
       "\n",
       "    .dataframe thead th {\n",
       "        text-align: right;\n",
       "    }\n",
       "</style>\n",
       "<table border=\"1\" class=\"dataframe\">\n",
       "  <thead>\n",
       "    <tr style=\"text-align: right;\">\n",
       "      <th></th>\n",
       "      <th>Ano</th>\n",
       "      <th>Instituição</th>\n",
       "      <th>UF</th>\n",
       "      <th>População</th>\n",
       "      <th>Conta</th>\n",
       "      <th>Identificador da Conta</th>\n",
       "      <th>Valor</th>\n",
       "    </tr>\n",
       "  </thead>\n",
       "  <tbody>\n",
       "    <tr>\n",
       "      <th>492</th>\n",
       "      <td>2021</td>\n",
       "      <td>Prefeitura Municipal de Maceió - AL</td>\n",
       "      <td>AL</td>\n",
       "      <td>1031597</td>\n",
       "      <td>( - ) Transferências obrigatórias da União rel...</td>\n",
       "      <td>siconfi-cor_RREO3TransferenciasObrigatoriasDaU...</td>\n",
       "      <td>-632793.00</td>\n",
       "    </tr>\n",
       "    <tr>\n",
       "      <th>535</th>\n",
       "      <td>2021</td>\n",
       "      <td>Prefeitura Municipal de Maceió - AL</td>\n",
       "      <td>AL</td>\n",
       "      <td>1031597</td>\n",
       "      <td>Outras Receitas Patrimoniais</td>\n",
       "      <td>siconfi-cor_OutrasReceitasPatrimoniais</td>\n",
       "      <td>-39174.87</td>\n",
       "    </tr>\n",
       "    <tr>\n",
       "      <th>582</th>\n",
       "      <td>2021</td>\n",
       "      <td>Prefeitura Municipal de Maceió - AL</td>\n",
       "      <td>AL</td>\n",
       "      <td>1031597</td>\n",
       "      <td>( - ) Transferências obrigatórias da União rel...</td>\n",
       "      <td>siconfi-cor_RREO3TransferenciasObrigatoriasDaU...</td>\n",
       "      <td>-596107.00</td>\n",
       "    </tr>\n",
       "    <tr>\n",
       "      <th>961</th>\n",
       "      <td>2021</td>\n",
       "      <td>Prefeitura Municipal de Fortaleza - CE</td>\n",
       "      <td>CE</td>\n",
       "      <td>2703391</td>\n",
       "      <td>(-) Transferências obrigatórias da União relat...</td>\n",
       "      <td>siconfi-cor_RREO3TransferenciasObrigatoriasDaU...</td>\n",
       "      <td>-33604.00</td>\n",
       "    </tr>\n",
       "    <tr>\n",
       "      <th>1049</th>\n",
       "      <td>2021</td>\n",
       "      <td>Prefeitura Municipal de Fortaleza - CE</td>\n",
       "      <td>CE</td>\n",
       "      <td>2703391</td>\n",
       "      <td>(-) Transferências obrigatórias da União relat...</td>\n",
       "      <td>siconfi-cor_RREO3TransferenciasObrigatoriasDaU...</td>\n",
       "      <td>-300000.00</td>\n",
       "    </tr>\n",
       "    <tr>\n",
       "      <th>...</th>\n",
       "      <td>...</td>\n",
       "      <td>...</td>\n",
       "      <td>...</td>\n",
       "      <td>...</td>\n",
       "      <td>...</td>\n",
       "      <td>...</td>\n",
       "      <td>...</td>\n",
       "    </tr>\n",
       "    <tr>\n",
       "      <th>28430</th>\n",
       "      <td>2023</td>\n",
       "      <td>Prefeitura Municipal de Belém - PA</td>\n",
       "      <td>PA</td>\n",
       "      <td>1499641</td>\n",
       "      <td>Rendimentos de Aplicação Financeira</td>\n",
       "      <td>siconfi-cor_RendimentosDeAplicacaoFinanceira</td>\n",
       "      <td>-1629428.92</td>\n",
       "    </tr>\n",
       "    <tr>\n",
       "      <th>28455</th>\n",
       "      <td>2023</td>\n",
       "      <td>Prefeitura Municipal de Belém - PA</td>\n",
       "      <td>PA</td>\n",
       "      <td>1499641</td>\n",
       "      <td>Receita Patrimonial</td>\n",
       "      <td>siconfi-cor_RREO3ReceitaPatrimonial</td>\n",
       "      <td>-1927275.69</td>\n",
       "    </tr>\n",
       "    <tr>\n",
       "      <th>28456</th>\n",
       "      <td>2023</td>\n",
       "      <td>Prefeitura Municipal de Belém - PA</td>\n",
       "      <td>PA</td>\n",
       "      <td>1499641</td>\n",
       "      <td>Rendimentos de Aplicação Financeira</td>\n",
       "      <td>siconfi-cor_RendimentosDeAplicacaoFinanceira</td>\n",
       "      <td>-1994966.02</td>\n",
       "    </tr>\n",
       "    <tr>\n",
       "      <th>28481</th>\n",
       "      <td>2023</td>\n",
       "      <td>Prefeitura Municipal de Belém - PA</td>\n",
       "      <td>PA</td>\n",
       "      <td>1499641</td>\n",
       "      <td>Receita Patrimonial</td>\n",
       "      <td>siconfi-cor_RREO3ReceitaPatrimonial</td>\n",
       "      <td>-68776.42</td>\n",
       "    </tr>\n",
       "    <tr>\n",
       "      <th>28482</th>\n",
       "      <td>2023</td>\n",
       "      <td>Prefeitura Municipal de Belém - PA</td>\n",
       "      <td>PA</td>\n",
       "      <td>1499641</td>\n",
       "      <td>Rendimentos de Aplicação Financeira</td>\n",
       "      <td>siconfi-cor_RendimentosDeAplicacaoFinanceira</td>\n",
       "      <td>-165532.48</td>\n",
       "    </tr>\n",
       "  </tbody>\n",
       "</table>\n",
       "<p>134 rows × 7 columns</p>\n",
       "</div>"
      ],
      "text/plain": [
       "        Ano                             Instituição  UF  População  \\\n",
       "492    2021     Prefeitura Municipal de Maceió - AL  AL    1031597   \n",
       "535    2021     Prefeitura Municipal de Maceió - AL  AL    1031597   \n",
       "582    2021     Prefeitura Municipal de Maceió - AL  AL    1031597   \n",
       "961    2021  Prefeitura Municipal de Fortaleza - CE  CE    2703391   \n",
       "1049   2021  Prefeitura Municipal de Fortaleza - CE  CE    2703391   \n",
       "...     ...                                     ...  ..        ...   \n",
       "28430  2023      Prefeitura Municipal de Belém - PA  PA    1499641   \n",
       "28455  2023      Prefeitura Municipal de Belém - PA  PA    1499641   \n",
       "28456  2023      Prefeitura Municipal de Belém - PA  PA    1499641   \n",
       "28481  2023      Prefeitura Municipal de Belém - PA  PA    1499641   \n",
       "28482  2023      Prefeitura Municipal de Belém - PA  PA    1499641   \n",
       "\n",
       "                                                   Conta  \\\n",
       "492    ( - ) Transferências obrigatórias da União rel...   \n",
       "535                         Outras Receitas Patrimoniais   \n",
       "582    ( - ) Transferências obrigatórias da União rel...   \n",
       "961    (-) Transferências obrigatórias da União relat...   \n",
       "1049   (-) Transferências obrigatórias da União relat...   \n",
       "...                                                  ...   \n",
       "28430                Rendimentos de Aplicação Financeira   \n",
       "28455                                Receita Patrimonial   \n",
       "28456                Rendimentos de Aplicação Financeira   \n",
       "28481                                Receita Patrimonial   \n",
       "28482                Rendimentos de Aplicação Financeira   \n",
       "\n",
       "                                  Identificador da Conta       Valor  \n",
       "492    siconfi-cor_RREO3TransferenciasObrigatoriasDaU...  -632793.00  \n",
       "535               siconfi-cor_OutrasReceitasPatrimoniais   -39174.87  \n",
       "582    siconfi-cor_RREO3TransferenciasObrigatoriasDaU...  -596107.00  \n",
       "961    siconfi-cor_RREO3TransferenciasObrigatoriasDaU...   -33604.00  \n",
       "1049   siconfi-cor_RREO3TransferenciasObrigatoriasDaU...  -300000.00  \n",
       "...                                                  ...         ...  \n",
       "28430       siconfi-cor_RendimentosDeAplicacaoFinanceira -1629428.92  \n",
       "28455                siconfi-cor_RREO3ReceitaPatrimonial -1927275.69  \n",
       "28456       siconfi-cor_RendimentosDeAplicacaoFinanceira -1994966.02  \n",
       "28481                siconfi-cor_RREO3ReceitaPatrimonial   -68776.42  \n",
       "28482       siconfi-cor_RendimentosDeAplicacaoFinanceira  -165532.48  \n",
       "\n",
       "[134 rows x 7 columns]"
      ]
     },
     "execution_count": 6,
     "metadata": {},
     "output_type": "execute_result"
    }
   ],
   "source": [
    "# Vamos visualizar melhor as linhas referentes aos valores negativos da coluna \"valor\"\n",
    "df_valores_negativos = dataset_copia[dataset_copia['Valor'] < 0]\n",
    "\n",
    "df_valores_negativos"
   ]
  },
  {
   "cell_type": "markdown",
   "metadata": {},
   "source": [
    "    Esses valores negativos podem indicar ajustes contábeis, como devoluções de transferências obrigatórias, correções em receitas e despesas, e situações de déficit orçamentário, onde despesas superam receitas previstas. "
   ]
  },
  {
   "cell_type": "markdown",
   "metadata": {},
   "source": [
    "## Pré-processamento de dados"
   ]
  },
  {
   "cell_type": "markdown",
   "metadata": {},
   "source": [
    "## Perguntas"
   ]
  },
  {
   "cell_type": "markdown",
   "metadata": {},
   "source": [
    "### Pergunta 1"
   ]
  },
  {
   "cell_type": "markdown",
   "metadata": {},
   "source": [
    "### Pergunta 2"
   ]
  },
  {
   "cell_type": "markdown",
   "metadata": {},
   "source": [
    "### Pergunta 3"
   ]
  },
  {
   "cell_type": "markdown",
   "metadata": {},
   "source": [
    "## Conclusão"
   ]
  },
  {
   "cell_type": "markdown",
   "metadata": {},
   "source": []
  }
 ],
 "metadata": {
  "kernelspec": {
   "display_name": "Python 3",
   "language": "python",
   "name": "python3"
  },
  "language_info": {
   "codemirror_mode": {
    "name": "ipython",
    "version": 3
   },
   "file_extension": ".py",
   "mimetype": "text/x-python",
   "name": "python",
   "nbconvert_exporter": "python",
   "pygments_lexer": "ipython3",
   "version": "3.11.3"
  }
 },
 "nbformat": 4,
 "nbformat_minor": 2
}
